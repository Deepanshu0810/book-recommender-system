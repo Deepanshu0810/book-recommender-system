{
 "cells": [
  {
   "cell_type": "code",
   "execution_count": null,
   "metadata": {},
   "outputs": [],
   "source": [
    "import numpy as np\n",
    "import pandas as pd"
   ]
  }
 ],
 "metadata": {
  "kernelspec": {
   "display_name": "Python 3",
   "language": "python",
   "name": "python3"
  },
  "language_info": {
   "name": "python",
   "version": "3.7.16"
  },
  "orig_nbformat": 4,
  "vscode": {
   "interpreter": {
    "hash": "b94926fa1ce6fb9dbfc879b698c1e3f47b43ee62410b409f2a4b29675dfff59b"
   }
  }
 },
 "nbformat": 4,
 "nbformat_minor": 2
}
